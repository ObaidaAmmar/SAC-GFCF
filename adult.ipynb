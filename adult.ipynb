{
 "cells": [
  {
   "cell_type": "markdown",
   "metadata": {},
   "source": [
    "# Import Necessary Libraries"
   ]
  },
  {
   "cell_type": "code",
   "execution_count": null,
   "metadata": {},
   "outputs": [],
   "source": [
    "import pandas as pd \n",
    "import numpy as np\n",
    "import seaborn as sns\n",
    "import pickle\n",
    "import matplotlib.pyplot as plt\n",
    "from sklearn.model_selection import train_test_split, GridSearchCV\n",
    "from sklearn.preprocessing import StandardScaler, LabelEncoder, MinMaxScaler\n",
    "from sklearn.naive_bayes import GaussianNB\n",
    "from sklearn.ensemble import RandomForestClassifier, GradientBoostingClassifier\n",
    "from sklearn.tree import DecisionTreeClassifier\n",
    "from sklearn.svm import SVC\n",
    "from sklearn.metrics import accuracy_score, precision_score, recall_score, f1_score, confusion_matrix, classification_report\n",
    "from sklearn.utils import resample\n",
    "from imblearn.over_sampling import SMOTE\n",
    "from imblearn.under_sampling import RandomUnderSampler\n",
    "import shap\n",
    "import torch\n",
    "from Explainer import *"
   ]
  },
  {
   "cell_type": "markdown",
   "metadata": {},
   "source": [
    "# Load Dataset"
   ]
  },
  {
   "cell_type": "code",
   "execution_count": 2,
   "metadata": {},
   "outputs": [],
   "source": [
    "data = pd.read_csv(\"Adult/Dataset/adult.csv\")"
   ]
  },
  {
   "cell_type": "markdown",
   "metadata": {},
   "source": [
    "# Explore Dataset"
   ]
  },
  {
   "cell_type": "code",
   "execution_count": null,
   "metadata": {},
   "outputs": [],
   "source": [
    "data.head()"
   ]
  },
  {
   "cell_type": "code",
   "execution_count": null,
   "metadata": {},
   "outputs": [],
   "source": [
    "data.info()"
   ]
  },
  {
   "cell_type": "code",
   "execution_count": null,
   "metadata": {},
   "outputs": [],
   "source": [
    "data.describe()"
   ]
  },
  {
   "cell_type": "markdown",
   "metadata": {},
   "source": [
    "# Data Preprocessing"
   ]
  },
  {
   "cell_type": "code",
   "execution_count": 3,
   "metadata": {},
   "outputs": [],
   "source": [
    "data = data.replace('?', np.nan)"
   ]
  },
  {
   "cell_type": "code",
   "execution_count": 4,
   "metadata": {},
   "outputs": [],
   "source": [
    "# Drop Missing Values\n",
    "data.dropna(how='any', inplace=True)"
   ]
  },
  {
   "cell_type": "code",
   "execution_count": 5,
   "metadata": {},
   "outputs": [],
   "source": [
    "data.drop_duplicates(inplace=True)"
   ]
  },
  {
   "cell_type": "code",
   "execution_count": 6,
   "metadata": {},
   "outputs": [],
   "source": [
    "data['income']= data['income'].replace({'<=50K':0, '>50K':1})"
   ]
  },
  {
   "cell_type": "code",
   "execution_count": null,
   "metadata": {},
   "outputs": [],
   "source": [
    "data.head()"
   ]
  },
  {
   "cell_type": "code",
   "execution_count": 7,
   "metadata": {},
   "outputs": [],
   "source": [
    "# Only 2 subrgoups in Race, White and Other \n",
    "# Other subgroup represents Black, Asian-Pac-Islander, Amer-Indian-Eskimo and Other\n",
    "data['race'] = data['race'].apply(lambda x: 0 if x == 'White' else 1)"
   ]
  },
  {
   "cell_type": "code",
   "execution_count": null,
   "metadata": {},
   "outputs": [],
   "source": [
    "race_counts = data['race'].value_counts()\n",
    "print(\"Race distribution:\\n\", race_counts)\n",
    "sns.countplot(x='race', data=data)\n",
    "plt.title('Race Distribution')\n",
    "plt.show()"
   ]
  },
  {
   "cell_type": "code",
   "execution_count": null,
   "metadata": {},
   "outputs": [],
   "source": [
    "gender_counts = data['gender'].value_counts()\n",
    "print(\"Gender distribution:\\n\", gender_counts)\n",
    "sns.countplot(x='gender', data=data)\n",
    "plt.title('Gender Distribution')\n",
    "plt.show()"
   ]
  },
  {
   "cell_type": "code",
   "execution_count": 8,
   "metadata": {},
   "outputs": [],
   "source": [
    "# Encode Gender, Male = 0 / Female = 1\n",
    "data['gender'] = data['gender'].apply(lambda x: 0 if x == 'Male' else 1)\n",
    "data.rename(columns={'gender': 'sex'}, inplace=True)"
   ]
  },
  {
   "cell_type": "code",
   "execution_count": 9,
   "metadata": {},
   "outputs": [],
   "source": [
    "label_encoder = LabelEncoder()\n",
    "data['workclass'] = label_encoder.fit_transform(data['workclass'])\n",
    "data['education'] = label_encoder.fit_transform(data['education'])\n",
    "data['marital-status'] = label_encoder.fit_transform(data['marital-status'])\n",
    "data['occupation'] = label_encoder.fit_transform(data['occupation'])\n",
    "data['relationship'] = label_encoder.fit_transform(data['relationship'])\n",
    "data['native-country'] = label_encoder.fit_transform(data['native-country'])"
   ]
  },
  {
   "cell_type": "code",
   "execution_count": 9,
   "metadata": {},
   "outputs": [],
   "source": [
    "data['capital-gain'] = (data['capital-gain']/(data['capital-gain'].max() - data['capital-gain'].min()))*(999-0)"
   ]
  },
  {
   "cell_type": "code",
   "execution_count": null,
   "metadata": {},
   "outputs": [],
   "source": [
    "# Group the data by gender and outcome\n",
    "grouped = data.groupby(['race', 'income']).size().unstack(fill_value=0)\n",
    "\n",
    "# Create a bar plot\n",
    "grouped.plot(kind='bar', figsize=(8, 6))\n",
    "\n",
    "# Set plot labels and title\n",
    "plt.title('Outcome Distribution by Gender')\n",
    "plt.xlabel('sex')\n",
    "plt.ylabel('Count')\n",
    "plt.xticks(rotation=0) # Rotate x-axis labels for readability\n",
    "plt.legend(title='Income', labels=['Income <= 50K', 'Income > 50K'])"
   ]
  },
  {
   "cell_type": "markdown",
   "metadata": {},
   "source": [
    "# Split the data into Training and Testing"
   ]
  },
  {
   "cell_type": "code",
   "execution_count": null,
   "metadata": {},
   "outputs": [],
   "source": [
    "# # Take only 14680 individual of each group\n",
    "# males = data[data['race'] == 0].sample(n=6316, random_state=42)\n",
    "# females = data[data['race'] == 1].sample(n=6316, random_state=42)\n",
    "# filtered_data = pd.concat([males, females])\n",
    "# data = filtered_data.sample(frac=1, random_state=42)"
   ]
  },
  {
   "cell_type": "code",
   "execution_count": 10,
   "metadata": {},
   "outputs": [],
   "source": [
    "X = data.drop('income', axis=1)\n",
    "y = data['income']\n",
    "X_train, X_test, y_train, y_test = train_test_split(X, y, test_size=0.20, random_state=40, stratify=y)"
   ]
  },
  {
   "cell_type": "markdown",
   "metadata": {},
   "source": [
    "# Balance The Dataset"
   ]
  },
  {
   "cell_type": "markdown",
   "metadata": {},
   "source": [
    "#### Over Sampling"
   ]
  },
  {
   "cell_type": "code",
   "execution_count": 11,
   "metadata": {},
   "outputs": [],
   "source": [
    "# Apply SMOTE (oversampling) only to the training data to balance the minority class\n",
    "smote = SMOTE(random_state=42, sampling_strategy='auto')\n",
    "X_train_balanced, y_train_balanced = smote.fit_resample(X_train, y_train)"
   ]
  },
  {
   "cell_type": "code",
   "execution_count": 12,
   "metadata": {},
   "outputs": [],
   "source": [
    "# Combine the gender and race columns back into the balanced dataset\n",
    "df_balanced = pd.concat([X_train_balanced, y_train_balanced], axis=1)"
   ]
  },
  {
   "cell_type": "markdown",
   "metadata": {},
   "source": [
    "#### Under Sampling"
   ]
  },
  {
   "cell_type": "code",
   "execution_count": null,
   "metadata": {},
   "outputs": [],
   "source": [
    "# Apply RandomUnderSampler (undersampling) to ensure majority class isn't too dominant\n",
    "undersampler = RandomUnderSampler(random_state=42)\n",
    "X_train_balanced, y_train_balanced = undersampler.fit_resample(X_train, y_train)"
   ]
  },
  {
   "cell_type": "code",
   "execution_count": null,
   "metadata": {},
   "outputs": [],
   "source": [
    "# Combine the gender and race columns back into the balanced dataset\n",
    "df_balanced = pd.concat([X_train_balanced, y_train_balanced], axis=1)"
   ]
  },
  {
   "cell_type": "code",
   "execution_count": null,
   "metadata": {},
   "outputs": [],
   "source": [
    "# Group the data by gender and outcome\n",
    "grouped = df_balanced.groupby(['race', 'income']).size().unstack(fill_value=0)\n",
    "\n",
    "# Create a bar plot\n",
    "grouped.plot(kind='bar', figsize=(8, 6))\n",
    "\n",
    "# Set plot labels and title\n",
    "plt.title('Outcome Distribution by Gender')\n",
    "plt.xlabel('Gender')\n",
    "plt.ylabel('Count')\n",
    "plt.xticks(rotation=0) # Rotate x-axis labels for readability\n",
    "plt.legend(title='Income', labels=['Income < 50K', 'Income >= 50K'])"
   ]
  },
  {
   "cell_type": "markdown",
   "metadata": {},
   "source": [
    "# Random Forest Classifier"
   ]
  },
  {
   "cell_type": "code",
   "execution_count": 22,
   "metadata": {},
   "outputs": [],
   "source": [
    "naiveModel = RandomForestClassifier(max_depth=15, max_features='sqrt', min_samples_leaf=2, min_samples_split=5, n_estimators=200) #max_depth=15, max_features='sqrt', min_samples_leaf=2, min_samples_split=5, n_estimators=200\n",
    "naiveModel.fit(X_train_balanced,y_train_balanced) #X_train_balanced,y_train_balanced\n",
    "y_pred = naiveModel.predict(X_test)"
   ]
  },
  {
   "cell_type": "code",
   "execution_count": 13,
   "metadata": {},
   "outputs": [],
   "source": [
    "filename = 'random_forest_classifier.sav'"
   ]
  },
  {
   "cell_type": "code",
   "execution_count": 14,
   "metadata": {},
   "outputs": [],
   "source": [
    "naiveModel = pickle.load(open('Adult/Models/'+filename, 'rb'))\n",
    "y_pred = naiveModel.predict(X_test)"
   ]
  },
  {
   "cell_type": "markdown",
   "metadata": {},
   "source": [
    "# Gaussian Naive Bayes Model"
   ]
  },
  {
   "cell_type": "code",
   "execution_count": null,
   "metadata": {},
   "outputs": [],
   "source": [
    "naiveModel = GaussianNB()\n",
    "naiveModel.fit(X_train,y_train) #X_train_balanced,y_train_balanced\n",
    "y_pred = naiveModel.predict(X_test)"
   ]
  },
  {
   "cell_type": "code",
   "execution_count": null,
   "metadata": {},
   "outputs": [],
   "source": [
    "filename = 'gaussian_naive_bayes.sav'"
   ]
  },
  {
   "cell_type": "markdown",
   "metadata": {},
   "source": [
    "# Prediction Report"
   ]
  },
  {
   "cell_type": "code",
   "execution_count": null,
   "metadata": {},
   "outputs": [],
   "source": [
    "print(classification_report(y_test, y_pred))\n",
    "print(accuracy_score(y_test,y_pred))\n",
    "confusion = confusion_matrix(y_test, y_pred)\n",
    "print(confusion)\n",
    "sns.heatmap(confusion, annot=True, fmt=\".2f\")"
   ]
  },
  {
   "cell_type": "markdown",
   "metadata": {},
   "source": [
    "# Save the Model"
   ]
  },
  {
   "cell_type": "code",
   "execution_count": 22,
   "metadata": {},
   "outputs": [],
   "source": [
    "#Save the trained model\n",
    "pickle.dump(naiveModel, open('Adult/Models/'+filename, 'wb'))"
   ]
  },
  {
   "cell_type": "markdown",
   "metadata": {},
   "source": [
    "# Test Model Fairness"
   ]
  },
  {
   "cell_type": "code",
   "execution_count": 15,
   "metadata": {},
   "outputs": [],
   "source": [
    "# fairlearn\n",
    "from fairlearn.metrics import (\n",
    "    false_positive_rate,\n",
    "    false_negative_rate,\n",
    "    true_positive_rate,\n",
    "    MetricFrame,\n",
    "    equalized_odds_difference,\n",
    "    demographic_parity_difference,\n",
    ")\n",
    "\n",
    "def score(\n",
    "    y_train,\n",
    "    y_train_pred,\n",
    "    y_test,\n",
    "    y_test_pred,\n",
    "    sensitive_features_train,\n",
    "    sensitive_features_test,\n",
    "    metrics={\"accuracy\": accuracy_score, \"fpr\": false_positive_rate, \"fnr\": false_negative_rate,},\n",
    "):\n",
    "    \"\"\"\n",
    "    Helper function to evaluate classifiers without too much repetition of code.\n",
    "    \"\"\"\n",
    "\n",
    "    # training set\n",
    "    mf_train = MetricFrame(\n",
    "        metrics=metrics,\n",
    "        y_true=y_train,\n",
    "        y_pred=y_train_pred,\n",
    "        sensitive_features=sensitive_features_train,\n",
    "    )\n",
    "\n",
    "    # test set\n",
    "    mf_test = MetricFrame(\n",
    "        metrics=metrics,\n",
    "        y_true=y_test,\n",
    "        y_pred=y_test_pred,\n",
    "        sensitive_features=sensitive_features_test,\n",
    "    )\n",
    "\n",
    "    # display results\n",
    "    display(\n",
    "        pd.concat(\n",
    "            [mf_train.by_group, mf_test.by_group], keys=[\"train\", \"test\"]\n",
    "        ).unstack(level=0)\n",
    "    )\n",
    "\n",
    "    # compute metrics\n",
    "    print(\n",
    "        \"equalized odds (test): %.2f\"\n",
    "        % equalized_odds_difference(\n",
    "            y_true=y_test,\n",
    "            y_pred=y_test_pred,\n",
    "            sensitive_features=sensitive_features_test,\n",
    "        )\n",
    "    )\n",
    "\n",
    "    print(\"accuracy (test): %.2f\" % accuracy_score(y_true=y_test, y_pred=y_test_pred))\n",
    "    return"
   ]
  },
  {
   "cell_type": "code",
   "execution_count": null,
   "metadata": {},
   "outputs": [],
   "source": [
    "score(\n",
    "    y_train_balanced,\n",
    "    naiveModel.predict(X_train_balanced),\n",
    "    y_test,\n",
    "    naiveModel.predict(X_test),\n",
    "    X_train_balanced[\"race\"],\n",
    "    X_test[\"race\"],\n",
    ")"
   ]
  },
  {
   "cell_type": "markdown",
   "metadata": {},
   "source": [
    "# UnFairness Mitigation"
   ]
  },
  {
   "cell_type": "markdown",
   "metadata": {},
   "source": [
    "#### In Process Using Exponentiated Gradient"
   ]
  },
  {
   "cell_type": "code",
   "execution_count": null,
   "metadata": {},
   "outputs": [],
   "source": [
    "from fairlearn.reductions import ExponentiatedGradient, DemographicParity, EqualizedOdds, TruePositiveRateParity\n",
    "\n",
    "constraint = EqualizedOdds()\n",
    "rf = RandomForestClassifier()\n",
    "\n",
    "fair_model = ExponentiatedGradient(rf, constraints=constraint)\n",
    "fair_model.fit(X_train_balanced, y_train_balanced, sensitive_features=X_train_balanced[['race']])\n",
    "y_pred_fair = fair_model.predict(X_test)"
   ]
  },
  {
   "cell_type": "markdown",
   "metadata": {},
   "source": [
    "#### Grid Search"
   ]
  },
  {
   "cell_type": "code",
   "execution_count": null,
   "metadata": {},
   "outputs": [],
   "source": [
    "from fairlearn.reductions import GridSearch, DemographicParity, EqualizedOdds\n",
    "from fairlearn.metrics import MetricFrame, demographic_parity_difference, equalized_odds_difference\n",
    "\n",
    "# Define your base estimator\n",
    "base_estimator = RandomForestClassifier()\n",
    "\n",
    "# Apply GridSearch with a fairness constraint\n",
    "mitigator = GridSearch(estimator=base_estimator,\n",
    "                       constraints=DemographicParity(),\n",
    "                       grid_size=10)\n",
    "\n",
    "# Fit the mitigator\n",
    "mitigator.fit(X_train_balanced, y_train_balanced, sensitive_features=X_train_balanced[['sex']])\n",
    "\n",
    "# Access the models generated by GridSearch\n",
    "models = mitigator.predictors_\n",
    "\n",
    "# Evaluate and select the best model based on accuracy and fairness trade-off\n",
    "fair_model = None\n",
    "best_score = float('-inf')\n",
    "\n",
    "for model in models:\n",
    "    y_pred = model.predict(X_test)\n",
    "    \n",
    "    # Calculate accuracy and fairness metrics\n",
    "    accuracy = accuracy_score(y_test, y_pred)\n",
    "    dp_diff = demographic_parity_difference(y_test, y_pred, sensitive_features=X_test[['sex']])\n",
    "    eo_diff = equalized_odds_difference(y_test, y_pred, sensitive_features=X_test[['sex']])\n",
    "    \n",
    "    # Define your custom criteria to select the best model\n",
    "    score = accuracy - (dp_diff + eo_diff) # Example: accuracy minus DP difference\n",
    "    \n",
    "    if score > best_score:\n",
    "        best_score = score\n",
    "        fair_model = model\n",
    "\n",
    "# Use best_model for predictions\n",
    "y_pred_fair = fair_model.predict(X_test)"
   ]
  },
  {
   "cell_type": "code",
   "execution_count": null,
   "metadata": {},
   "outputs": [],
   "source": [
    "dp_diff_final = demographic_parity_difference(y_test, y_pred_fair, sensitive_features=X_test[['race']])\n",
    "eo_diff_final = equalized_odds_difference(y_test, y_pred_fair, sensitive_features=X_test[['race']])\n",
    "\n",
    "print(classification_report(y_test, y_pred_fair))\n",
    "confusion = confusion_matrix(y_test, y_pred_fair)\n",
    "print(confusion)\n",
    "sns.heatmap(confusion, annot=True, fmt=\".2f\")\n",
    "print(accuracy_score(y_test,y_pred_fair))\n",
    "print(f\"Final Demographic Parity Difference: {dp_diff_final}\")\n",
    "print(f\"Final Equalized Odds Difference: {eo_diff_final}\")"
   ]
  },
  {
   "cell_type": "markdown",
   "metadata": {},
   "source": [
    "# Test Fairness of New Fair Model"
   ]
  },
  {
   "cell_type": "code",
   "execution_count": null,
   "metadata": {},
   "outputs": [],
   "source": [
    "from raiwidgets import FairnessDashboard\n",
    "\n",
    "sensitive_features = X_test[['race', 'sex']]\n",
    "FairnessDashboard(\n",
    "    sensitive_features=sensitive_features,\n",
    "    y_true=y_test,\n",
    "    y_pred=y_pred_fair\n",
    ")"
   ]
  },
  {
   "cell_type": "code",
   "execution_count": null,
   "metadata": {},
   "outputs": [],
   "source": [
    "# Find instances where the model predicted target class 0\n",
    "predicted_target_0_instances = X_test[y_pred == 0]\n",
    "print(predicted_target_0_instances['race'].value_counts())\n",
    "\n",
    "# males = predicted_target_0_instances[predicted_target_0_instances['sex'] == 0].sample(n=961, random_state=42)  # 42 is a random seed\n",
    "# females = predicted_target_0_instances[predicted_target_0_instances['sex'] == 1].sample(n=961, random_state=42)\n",
    "# filtered_test_data = pd.concat([males, females])\n",
    "# predicted_target_0_instances = filtered_test_data.sample(frac=1, random_state=42)\n",
    "\n",
    "# Save the filtered instances to a new dataset\n",
    "predicted_target_0_instances.to_csv('Adult/Dataset/predicted_target_0_instances.csv', index=False)"
   ]
  },
  {
   "cell_type": "markdown",
   "metadata": {},
   "source": [
    "# Test Which Features are Influencing the Prediction"
   ]
  },
  {
   "cell_type": "code",
   "execution_count": null,
   "metadata": {},
   "outputs": [],
   "source": [
    "shap_explainer = shap.Explainer(naiveModel)\n",
    "shap_values = shap_explainer.shap_values(X_train_balanced)\n",
    "shap.summary_plot(shap_values, X_train_balanced, feature_names=data.columns)"
   ]
  },
  {
   "cell_type": "markdown",
   "metadata": {},
   "source": [
    "# RL Agent Training"
   ]
  },
  {
   "cell_type": "code",
   "execution_count": null,
   "metadata": {},
   "outputs": [],
   "source": [
    "dataset = data\n",
    "affected_dataset = predicted_target_0_instances\n",
    "model = naiveModel #fair_model   #naiveModel\n",
    "target = 1\n",
    "protected_attribute = \"race\"\n",
    "features_to_change = [\"capital-gain\", \"hours-per-week\"]\n",
    "minimums = [0, 1]\n",
    "maximums = [99999, 99]\n",
    "number_of_counterfactuals = 5\n",
    "\n",
    "explainer = Explainer(dataset, affected_dataset, model, protected_attribute, features_to_change, number_of_counterfactuals, target, minimums, maximums, action_effectiveness=0.7)\n",
    "explainer.train()\n",
    "\n",
    "x, y = explainer.plot()\n",
    "plt.show()\n",
    "plt.plot(x, y)\n",
    "plt.xlabel(\"Number of Timesteps\")\n",
    "plt.ylabel(\"Rewards\")\n",
    "plt.title(\"Learning Curve\" + \" Smoothed\")\n",
    "plt.show()\n",
    "\n",
    "cfs = explainer.report_counterfactuals()\n",
    "print(cfs)"
   ]
  }
 ],
 "metadata": {
  "kernelspec": {
   "display_name": "Code-RL",
   "language": "python",
   "name": "python3"
  },
  "language_info": {
   "codemirror_mode": {
    "name": "ipython",
    "version": 3
   },
   "file_extension": ".py",
   "mimetype": "text/x-python",
   "name": "python",
   "nbconvert_exporter": "python",
   "pygments_lexer": "ipython3",
   "version": "3.11.9"
  }
 },
 "nbformat": 4,
 "nbformat_minor": 2
}
